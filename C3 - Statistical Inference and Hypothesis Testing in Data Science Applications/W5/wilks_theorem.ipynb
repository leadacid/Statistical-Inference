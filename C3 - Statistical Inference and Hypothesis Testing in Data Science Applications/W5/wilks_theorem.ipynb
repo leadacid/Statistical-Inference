{
 "cells": [
  {
   "cell_type": "markdown",
   "metadata": {},
   "source": [
    "# Wilks' Theorem Exploration\n",
    "\n",
    "> In Module 5, we were given, without proof, Wilks' Theorem which says that \n",
    "$$-2 \\ln \\lambda(\\vec{X}) \\rightarrow \\chi^{2}(1),$$ under the assumption that $H_{0}$ is true.\n",
    ">\n",
    ">In this lab, we are going to explore this claim with some simulated experiments."
   ]
  },
  {
   "cell_type": "markdown",
   "metadata": {},
   "source": [
    "> First, we will generate a large Pareto sample. There is no built in \"rpareto\" function in the base distribution package of R. We are going to generate our sample using the \"inverse cdf method\". The Pareto cdf is\n",
    "$$F(x)=1-\\frac{1}{(1+x)^{\\gamma}}.$$\n",
    ">\n",
    ">One can prove that if $U \\sim unif(0,1)$, $F^{-1}(U)$, which is random, has the distribution described by $F$.\n",
    ">\n",
    "> For the Pareto cdf, the inverse cdf is $$F^{-1}(x) = (1-x)^{-1/\\gamma}-1.$$\n",
    ">\n",
    "> Generate a Pareto($\\gamma=1.8$) sample of size 1000 by typing the following lines and running the cell.\n",
    "\n",
    "`n<-1000`\n",
    "\n",
    "`gamma<-1.8`\n",
    "\n",
    "`u<-runif(n)`\n",
    "\n",
    "`mysample<-(1-u)^(-1/gamma)-1`"
   ]
  },
  {
   "cell_type": "code",
   "execution_count": 1,
   "metadata": {},
   "outputs": [],
   "source": [
    "n<-1000\n",
    "gamma<-1.8\n",
    "u<-runif(n)\n",
    "mysample<-(1-u)^(-1/gamma)-1"
   ]
  },
  {
   "cell_type": "markdown",
   "metadata": {},
   "source": [
    "> Let's make a histogram of the sample. Because the Pareto distribution will likely have some large outliers that will stretch the x-axis out and make the histogram almost unreadable, we will make a full histogram but only plot the part that falls between 0 and 5.\n",
    ">\n",
    ">Type and run the following code.\n",
    "\n",
    "`br<-seq(0,ceiling(max(mysample)),0.5)`\n",
    "\n",
    "`hist(mysample,prob=T,breaks=br,xlim=c(0,5))`"
   ]
  },
  {
   "cell_type": "code",
   "execution_count": 2,
   "metadata": {},
   "outputs": [
    {
     "data": {
      "image/png": "[encoded data removed]",
      "text/plain": [
       "Plot with title “Histogram of mysample”"
      ]
     },
     "metadata": {
      "image/png": {
       "height": 420,
       "width": 420
      },
      "text/plain": {
       "height": 420,
       "width": 420
      }
     },
     "output_type": "display_data"
    }
   ],
   "source": [
    "br<-seq(0,ceiling(max(mysample)),0.5)\n",
    "hist(mysample,prob=T,breaks=br,xlim=c(0,5))\n",
    "x<-seq(0,5,0.01)\n",
    "f<-gamma/(1+x)^(gamma+1)\n",
    "lines(x,f)"
   ]
  },
  {
   "cell_type": "markdown",
   "metadata": {},
   "source": [
    "> Return to the above cell to superimpose the Pareto density on the histpogram by typing the following lines under your \"hist statement\". Does it fit?\n",
    "\n",
    "`x<-seq(0,5,0.01)`\n",
    "\n",
    "`f<-gamma/(1+x)^(gamma+1)`\n",
    "\n",
    "`lines(x,f)`"
   ]
  },
  {
   "cell_type": "markdown",
   "metadata": {},
   "source": [
    ">Moving on to the next cell, lets find the generalized likelihood ratio for testing $$H_{0}: \\gamma=1.8 \\,\\,\\,\\, \\text{versus} \\,\\,\\,\\, H_{1}: \\gamma \\ne 1.8$$. \n",
    ">\n",
    "> Find the unrestricted MLE, as given in Lesson 2 of Module 5.\n",
    "\n",
    "`mle<-n/sum(log(1+mysample))`\n",
    "> Specify the restricted MLE:\n",
    "\n",
    "`mle0<-1.8`\n",
    "> Compute the numerator and denominator for the GLR by typing\n",
    "\n",
    "`x<-seq(0,5,0.01)`\n",
    "\n",
    " `numer<-((mle0)^n)/(prod(1+mysample)^(mle0+1))`\n",
    "\n",
    " `denom<-((mle)^n)/(prod(1+mysample)^(mle+1))`"
   ]
  },
  {
   "cell_type": "code",
   "execution_count": 3,
   "metadata": {},
   "outputs": [],
   "source": [
    "mle<-n/sum(log(1+mysample))\n",
    "mle0 <- 1.8\n",
    "x <- seq(0,5,0.01)\n",
    "numer <- ((mle0)^n)/(prod(1+mysample)^(mle0+1))\n",
    "denom <- ((mle)^n)/(prod(1+mysample)^(mle+1))"
   ]
  },
  {
   "cell_type": "markdown",
   "metadata": {},
   "source": [
    "> Type the following to see the values.\n",
    "\n",
    "`numer`\n",
    "\n",
    "`denom`\n"
   ]
  },
  {
   "cell_type": "code",
   "execution_count": 4,
   "metadata": {},
   "outputs": [
    {
     "data": {
      "text/html": [
       "0"
      ],
      "text/latex": [
       "0"
      ],
      "text/markdown": [
       "0"
      ],
      "text/plain": [
       "[1] 0"
      ]
     },
     "metadata": {},
     "output_type": "display_data"
    },
    {
     "data": {
      "text/html": [
       "0"
      ],
      "text/latex": [
       "0"
      ],
      "text/markdown": [
       "0"
      ],
      "text/plain": [
       "[1] 0"
      ]
     },
     "metadata": {},
     "output_type": "display_data"
    }
   ],
   "source": [
    "numer\n",
    "denom"
   ]
  },
  {
   "cell_type": "markdown",
   "metadata": {},
   "source": [
    "> You are likely seeing zeros because these numbers are very vary small and you are experiencing underflow error!\n",
    ">\n",
    "> We were going to find $-2 \\ln \\lambda(\\vec{x})$ by typing\n",
    "\n",
    "`teststat<-(-2*log(numer/denom))`\n",
    "> but the underflow error will cause this to be undefined!\n",
    ">\n",
    "> To counter this error, we will write down an expression for $L(\\widehat{\\gamma}_{0})/L(\\widehat{\\gamma}) = L(\\text{mle0})/L(\\text{mle})$, and simplify it to \n",
    "$$\\left( \\frac{\\text{mle0}}{\\text{mle}} \\right)^{n} \\left[ \\prod_{i=1}^{n}(1+x_{i}) \\right]^{\\text{mle-mle0}},$$\n",
    "> rather than computing the numerator and denominator separately.\n",
    ">\n",
    "> Find and view the GLR ratio by typing\n",
    "\n",
    "`ratio<-((mle0/mle)^n)*(prod((1+mysample)^(mle-mle0)))`\n",
    "\n",
    "`ratio`"
   ]
  },
  {
   "cell_type": "code",
   "execution_count": 5,
   "metadata": {},
   "outputs": [
    {
     "data": {
      "text/html": [
       "0.754933201552596"
      ],
      "text/latex": [
       "0.754933201552596"
      ],
      "text/markdown": [
       "0.754933201552596"
      ],
      "text/plain": [
       "[1] 0.7549332"
      ]
     },
     "metadata": {},
     "output_type": "display_data"
    }
   ],
   "source": [
    "teststat <- (-2*log(numer/denom))\n",
    "ratio <- ((mle0/mle)^n)*(prod((1+mysample)^(mle-mle0)))\n",
    "ratio"
   ]
  },
  {
   "cell_type": "markdown",
   "metadata": {},
   "source": [
    ">Compute and view the test statistic by typing\n",
    "\n",
    "`teststat<-(-2*log(ratio))`\n",
    "\n",
    "`teststat`\n"
   ]
  },
  {
   "cell_type": "code",
   "execution_count": 6,
   "metadata": {},
   "outputs": [
    {
     "data": {
      "text/html": [
       "0.562252016824018"
      ],
      "text/latex": [
       "0.562252016824018"
      ],
      "text/markdown": [
       "0.562252016824018"
      ],
      "text/plain": [
       "[1] 0.562252"
      ]
     },
     "metadata": {},
     "output_type": "display_data"
    }
   ],
   "source": [
    "teststat <- (-2*log(ratio))\n",
    "teststat"
   ]
  },
  {
   "cell_type": "markdown",
   "metadata": {},
   "source": [
    "> `teststat` is supposed to have an approximate $\\chi^{2}(1)$ distribution.\n",
    ">\n",
    "> To see this, we will repeat the entire experiment 10,000 times, make a histogram of the results, and superimpose the $\\chi^{2}(1)$ pdf.\n",
    ">\n",
    "> In the next cell, create a vector to hold the results by typing\n",
    "\n",
    "`reps<-10000`\n",
    "\n",
    "`results<-rep(0,reps)`\n"
   ]
  },
  {
   "cell_type": "code",
   "execution_count": 7,
   "metadata": {},
   "outputs": [],
   "source": [
    "reps<-10000\n",
    "results<-rep(0,reps)"
   ]
  },
  {
   "cell_type": "markdown",
   "metadata": {},
   "source": [
    "> Let's redo the entire experiment 10,000 times using a \"for loop\".\n",
    ">\n",
    "`for(i in 1:reps){`\n",
    "\n",
    "`u<-runif(n)`\n",
    "\n",
    "`mysample<-(1-u)^(-1/gamma)-1`\n",
    "\n",
    "`mle<-n/sum(log(1+mysample))`\n",
    "\n",
    "`ratio<-((mle0/mle)^n)*(prod((1+mysample)^(mle-mle0)))`\n",
    "\n",
    "`teststat<-(-2*log(ratio))`\n",
    "\n",
    "`results[i]<-teststat`\n",
    "\n",
    "`}`\n"
   ]
  },
  {
   "cell_type": "code",
   "execution_count": 8,
   "metadata": {},
   "outputs": [],
   "source": [
    "for(i in 1:reps){\n",
    "\n",
    "u<-runif(n)\n",
    "\n",
    "mysample<-(1-u)^(-1/gamma)-1\n",
    "\n",
    "mle<-n/sum(log(1+mysample))\n",
    "\n",
    "ratio<-((mle0/mle)^n)*(prod((1+mysample)^(mle-mle0)))\n",
    "\n",
    "teststat<-(-2*log(ratio))\n",
    "\n",
    "results[i]<-teststat\n",
    "\n",
    "}"
   ]
  },
  {
   "cell_type": "markdown",
   "metadata": {},
   "source": [
    "> Make a histogram of the results by typing\n",
    "\n",
    "`br<-seq(0,ceiling(max(results)),1)`\n",
    "\n",
    "`hist(results,prob=T,breaks=br)`\n",
    "\n",
    "> Aside: In all given histogram commands, I am giving the bin/break widths after making several histograms myself and picking one that will give a nice plot!"
   ]
  },
  {
   "cell_type": "code",
   "execution_count": 9,
   "metadata": {},
   "outputs": [
    {
     "data": {
      "image/png": "[encoded data removed]",
      "text/plain": [
       "Plot with title “Histogram of results”"
      ]
     },
     "metadata": {
      "image/png": {
       "height": 420,
       "width": 420
      },
      "text/plain": {
       "height": 420,
       "width": 420
      }
     },
     "output_type": "display_data"
    }
   ],
   "source": [
    "br<-seq(0,ceiling(max(results)),1)\n",
    "\n",
    "hist(results,prob=T,breaks=br)\n",
    "x<-seq(0,40,0.001)\n",
    "\n",
    "alpha<-1/2\n",
    "\n",
    "beta<-1/2\n",
    "\n",
    "f<-(1/gamma(alpha))*(beta^alpha)*(x^(alpha-1))*exp(-beta*x)\n",
    "\n",
    "lines(x,f)"
   ]
  },
  {
   "cell_type": "markdown",
   "metadata": {},
   "source": [
    "> Go back into the last code block and superimpose the $\\chi^{2}(1)$ density by typing:\n",
    "\n",
    "`x<-seq(0,40,0.001)`\n",
    "\n",
    "`alpha<-1/2`\n",
    "\n",
    "`beta<-1/2`\n",
    "\n",
    "`f<-(1/gamma(alpha))*(beta^alpha)*(x^(alpha-1))*exp(-beta*x)`\n",
    "\n",
    "`lines(x,f)`\n",
    "\n",
    "> How did we do?"
   ]
  },
  {
   "cell_type": "markdown",
   "metadata": {},
   "source": [
    "> While we're here with this glorious results vector, let's check out the level of significance of this test! We know that the samples were generated using the null hypothesis value. So, we should fail to reject $H_{0}$ \"most of the time\".\n",
    ">\n",
    ">In particular, for a test of size $\\alpha$, we should actually make a Type I error and reject $100 \\alpha \\%$ of the time.\n",
    ">\n",
    "> What percentage of our samples caused a Type I error when $\\alpha=0.05$? We reject $H_{0}$ every time we get a result above $\\chi^{2}_{0.05,1}$. Find this proportion by typing and running\n",
    "\n",
    "`length(results[results>qchisq(0.95,1)])/length(results)`\n",
    "\n",
    "> How satisfying!"
   ]
  },
  {
   "cell_type": "code",
   "execution_count": 10,
   "metadata": {},
   "outputs": [
    {
     "data": {
      "text/html": [
       "0.0498"
      ],
      "text/latex": [
       "0.0498"
      ],
      "text/markdown": [
       "0.0498"
      ],
      "text/plain": [
       "[1] 0.0498"
      ]
     },
     "metadata": {},
     "output_type": "display_data"
    }
   ],
   "source": [
    "length(results[results>qchisq(0.95,1)])/length(results)"
   ]
  },
  {
   "cell_type": "code",
   "execution_count": null,
   "metadata": {},
   "outputs": [],
   "source": []
  }
 ],
 "metadata": {
  "kernelspec": {
   "display_name": "R",
   "language": "R",
   "name": "ir"
  },
  "language_info": {
   "codemirror_mode": "r",
   "file_extension": ".r",
   "mimetype": "text/x-r-source",
   "name": "R",
   "pygments_lexer": "r",
   "version": "3.6.3"
  }
 },
 "nbformat": 4,
 "nbformat_minor": 4
}
