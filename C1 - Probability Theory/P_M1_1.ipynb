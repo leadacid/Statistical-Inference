{
 "cells": [
  {
   "cell_type": "markdown",
   "metadata": {},
   "source": [
    "This assignment will be reviewed by peers based upon a given rubric. Make sure to keep your answers clear and concise while demonstrating an understanding of the material. Be sure to give all requested information in markdown cells. It is recommended to utilize Latex."
   ]
  },
  {
   "cell_type": "markdown",
   "metadata": {},
   "source": [
    "### Problem 1"
   ]
  },
  {
   "cell_type": "markdown",
   "metadata": {},
   "source": [
    "The Birthday Problem: This is a classic problem that has a nonintuitive answer.  Suppose there are $N$ students in a room."
   ]
  },
  {
   "cell_type": "markdown",
   "metadata": {},
   "source": [
    "#### Part a)"
   ]
  },
  {
   "cell_type": "markdown",
   "metadata": {},
   "source": [
    "What is the probability that at least two of them have the same birthday (month and day)?  (Assume that each day is equally likely to be a student's birthday, that there are no sets of twins, and that there are 365 days in the year. Do not include leap years).\n",
    "\n",
    "Note: Jupyter has two types of cells: Programming and Markdown. Programming is where you will create and run R code. The Markdown cells are where you will type out expalantions and mathematical expressions. [Here](https://www.markdownguide.org/basic-syntax/) is a document on Markdown some basic markdwon syntax. Also feel free to look at the underlying markdown of any of the provided cells to see how we use markdown."
   ]
  },
  {
   "cell_type": "markdown",
   "metadata": {},
   "source": [
    "\\begin{align*}\n",
    "    P(\\text{At least two have same birthday}) &= 1 - \\prod\\limits_{i=1}^{n}(\\frac {365 - i + 1} {365})\n",
    "\\end{align*}"
   ]
  },
  {
   "cell_type": "markdown",
   "metadata": {},
   "source": [
    "#### Part b)"
   ]
  },
  {
   "cell_type": "markdown",
   "metadata": {},
   "source": [
    "How large must $N$ be so that the probability that at least two of them have the same birthday is at least 1/2?"
   ]
  },
  {
   "cell_type": "code",
   "execution_count": 1,
   "metadata": {},
   "outputs": [
    {
     "name": "stdout",
     "output_type": "stream",
     "text": [
      "[1] \"N:\"\n",
      "[1] 23\n",
      "[1] \"Probability:\"\n",
      "[1] 0.5073\n",
      "[1] \"N:\"\n",
      "[1] 24\n",
      "[1] \"Probability:\"\n",
      "[1] 0.5383\n"
     ]
    }
   ],
   "source": [
    "probabilities = c()\n",
    "for(i in seq(1,100,1))\n",
    " {\n",
    "  p = 1\n",
    "  for(j in seq(1,i,1))\n",
    "  {\n",
    "  p =  p * ((365 -j + 1)/365)\n",
    "  }\n",
    "  probabilities[i] = 1-p\n",
    "  if ((1 - p) >= 0.5)\n",
    "    {\n",
    "    if(i < 25)\n",
    "    {\n",
    "    print(\"N:\")\n",
    "    print(i)\n",
    "    print(\"Probability:\")\n",
    "    print(round(1-p,4))\n",
    "    }\n",
    "    }\n",
    " }"
   ]
  },
  {
   "cell_type": "markdown",
   "metadata": {},
   "source": [
    "As shown above N = 23 has Probability 0.5073"
   ]
  },
  {
   "cell_type": "markdown",
   "metadata": {},
   "source": [
    "#### Part c)"
   ]
  },
  {
   "cell_type": "markdown",
   "metadata": {},
   "source": [
    "Plot the number of students on the $x$-axis versus the probability that at least two of them have the same birthday\n",
    "on the $y$-axis."
   ]
  },
  {
   "cell_type": "code",
   "execution_count": 2,
   "metadata": {},
   "outputs": [
    {
     "data": {
      "image/png": "[encoded data removed]",
      "text/plain": [
       "plot without title"
      ]
     },
     "metadata": {
      "image/png": {
       "height": 420,
       "width": 420
      },
      "text/plain": {
       "height": 420,
       "width": 420
      }
     },
     "output_type": "display_data"
    }
   ],
   "source": [
    "n = seq(1:100)\n",
    "plot(n, probabilities, type='l')"
   ]
  },
  {
   "cell_type": "markdown",
   "metadata": {},
   "source": [
    " "
   ]
  },
  {
   "cell_type": "markdown",
   "metadata": {},
   "source": [
    "#### Thought Question (Ungraded)"
   ]
  },
  {
   "cell_type": "markdown",
   "metadata": {},
   "source": [
    "Thought question (Ungraded): Would you be surprised if there were 100 students in the room and no two of them had the same birthday?  What\n",
    "would that tell you about that set of students?"
   ]
  },
  {
   "cell_type": "markdown",
   "metadata": {},
   "source": [
    "Honestly, after watching the graph and seeing we pretty much have an asymptote to 1 after ~55, I would be very surprised. I don't know what it would tell me about them."
   ]
  },
  {
   "cell_type": "markdown",
   "metadata": {},
   "source": [
    "# Problem 2 \n",
    "\n",
    "One of the most beneficial aspects of R, when it comes to probability, is that it allows us to simulate data and random events. In the following problem, you are going to become familiar with these simulation functions and techniques."
   ]
  },
  {
   "cell_type": "markdown",
   "metadata": {},
   "source": [
    "**Part a)** \n",
    "\n",
    "Let $X$ be a random variable for the number rolled on a fair, six-sided die. How would we go about simulating $X$?\n",
    "\n",
    "Start by creating a list of numbers [1, 6]. Then use the `sample()` function with our list of numbers to simulate **a single** roll of the die, as in simulate $X$. We would recommend looking at the documentation for `sample()`, found [here](https://www.rdocumentation.org/packages/base/versions/3.6.2/topics/sample), or by executing `?sample` in a Jupyter cell."
   ]
  },
  {
   "cell_type": "code",
   "execution_count": 3,
   "metadata": {},
   "outputs": [
    {
     "data": {
      "text/html": [
       "2"
      ],
      "text/latex": [
       "2"
      ],
      "text/markdown": [
       "2"
      ],
      "text/plain": [
       "[1] 2"
      ]
     },
     "metadata": {},
     "output_type": "display_data"
    }
   ],
   "source": [
    "numbers = c(1,2,3,4,5,6)\n",
    "sample(x = numbers, size = 1)"
   ]
  },
  {
   "cell_type": "markdown",
   "metadata": {},
   "source": [
    "**Part b)** \n",
    "\n",
    "In our initial problem, we said that $X$ comes from a fair die, meaning each value is equally likely to be rolled. Because our die has $6$ sides, each side should appear about $1/6^{th}$ of the time. How would we confirm that our simulation is fair?\n",
    "\n",
    "What if we generate multiple instances of $X$? That way, we could compare if the simulated probabilities match the theoretical probabilities (i.e. are all $1/6$).\n",
    "\n",
    "Generate $12$ instances of $X$ and calculate the proportion of occurances for each face. Do your simulated results appear to come from a fair die? Now generate $120$ instances of $X$ and look at the proportion of each face. What do you notice?\n",
    "\n",
    "Note: Each time you run your simulations, you will get different values. If you want to guarantee that your simulation will result in the same values each time, use the `set.seed()` function. This function will allow your simulations to be reproducable."
   ]
  },
  {
   "cell_type": "code",
   "execution_count": 4,
   "metadata": {},
   "outputs": [
    {
     "name": "stdout",
     "output_type": "stream",
     "text": [
      "[1] 2\n",
      "[1] 4\n",
      "[1] 6\n",
      "[1] 2\n",
      "[1] 4\n",
      "[1] 1\n",
      "[1] 5\n",
      "[1] 3\n",
      "[1] 6\n",
      "[1] 3\n",
      "[1] 2\n",
      "[1] 3\n"
     ]
    },
    {
     "data": {
      "text/html": [
       "0.341666666666667"
      ],
      "text/latex": [
       "0.341666666666667"
      ],
      "text/markdown": [
       "0.341666666666667"
      ],
      "text/plain": [
       "[1] 0.3416667"
      ]
     },
     "metadata": {},
     "output_type": "display_data"
    }
   ],
   "source": [
    "set.seed(112358)\n",
    "sum = 0\n",
    "for (i in seq(1:12))\n",
    "    {\n",
    "    x = sample(x = numbers, size = 1)\n",
    "    sum = sum + x\n",
    "    print(x)\n",
    "    }\n",
    "sum/120"
   ]
  },
  {
   "cell_type": "code",
   "execution_count": 5,
   "metadata": {},
   "outputs": [
    {
     "data": {
      "text/html": [
       "3.39166666666667"
      ],
      "text/latex": [
       "3.39166666666667"
      ],
      "text/markdown": [
       "3.39166666666667"
      ],
      "text/plain": [
       "[1] 3.391667"
      ]
     },
     "metadata": {},
     "output_type": "display_data"
    }
   ],
   "source": [
    "set.seed(112358)\n",
    "\n",
    "sum = 0\n",
    "for (i in seq(1:120))\n",
    "    {\n",
    "    x = sample(x = numbers, size = 1)\n",
    "    sum = sum + x\n",
    "    }\n",
    "sum/120\n"
   ]
  },
  {
   "cell_type": "code",
   "execution_count": 6,
   "metadata": {},
   "outputs": [],
   "source": [
    "# The expectation for a fair die is 3.5\n",
    "# The values we are getting are fairly close"
   ]
  },
  {
   "cell_type": "code",
   "execution_count": null,
   "metadata": {},
   "outputs": [],
   "source": []
  },
  {
   "cell_type": "markdown",
   "metadata": {},
   "source": []
  },
  {
   "cell_type": "markdown",
   "metadata": {},
   "source": [
    "**Part c)** \n",
    "\n",
    "What if our die is not fair? How would we simulate that?\n",
    "\n",
    "Let's assume that $Y$ comes from an unfair six-sided die, where $P(Y=3)=1/2$ and all other face values have an equal probability of occuring. Use the `sample()` function to simulate this situation. Then display the proportion of each face value, to confirm that the faces occur with the desired probabilities. Make sure that $n$ is large enough to be confident in your answer."
   ]
  },
  {
   "cell_type": "code",
   "execution_count": 7,
   "metadata": {},
   "outputs": [
    {
     "data": {
      "text/html": [
       "3"
      ],
      "text/latex": [
       "3"
      ],
      "text/markdown": [
       "3"
      ],
      "text/plain": [
       "[1] 3"
      ]
     },
     "metadata": {},
     "output_type": "display_data"
    }
   ],
   "source": [
    "p = c(1/10,1/10,1/2,1/10,1/10,1/10)\n",
    "sample(x = numbers, size = 1, prob = p)"
   ]
  },
  {
   "cell_type": "code",
   "execution_count": 8,
   "metadata": {},
   "outputs": [
    {
     "data": {
      "text/html": [
       "3.2912"
      ],
      "text/latex": [
       "3.2912"
      ],
      "text/markdown": [
       "3.2912"
      ],
      "text/plain": [
       "[1] 3.2912"
      ]
     },
     "metadata": {},
     "output_type": "display_data"
    }
   ],
   "source": [
    "set.seed(112358)\n",
    "\n",
    "sum = 0\n",
    "for (i in seq(1:10000))\n",
    "    {\n",
    "    x = sample(x = numbers, size = 1, prob = p)\n",
    "    sum = sum + x\n",
    "    }\n",
    "sum/10000"
   ]
  },
  {
   "cell_type": "code",
   "execution_count": 9,
   "metadata": {},
   "outputs": [],
   "source": [
    "# The expected value went down significantly, showing that die is unfair"
   ]
  }
 ],
 "metadata": {
  "kernelspec": {
   "display_name": "R",
   "language": "R",
   "name": "ir"
  },
  "language_info": {
   "codemirror_mode": "r",
   "file_extension": ".r",
   "mimetype": "text/x-r-source",
   "name": "R",
   "pygments_lexer": "r",
   "version": "3.6.3"
  }
 },
 "nbformat": 4,
 "nbformat_minor": 4
}
